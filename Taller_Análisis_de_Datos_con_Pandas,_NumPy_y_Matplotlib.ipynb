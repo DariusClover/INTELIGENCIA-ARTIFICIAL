{
  "nbformat": 4,
  "nbformat_minor": 0,
  "metadata": {
    "colab": {
      "provenance": [],
      "authorship_tag": "ABX9TyPugeYovYEVgqmFwVq7FmhA",
      "include_colab_link": true
    },
    "kernelspec": {
      "name": "python3",
      "display_name": "Python 3"
    },
    "language_info": {
      "name": "python"
    }
  },
  "cells": [
    {
      "cell_type": "markdown",
      "metadata": {
        "id": "view-in-github",
        "colab_type": "text"
      },
      "source": [
        "<a href=\"https://colab.research.google.com/github/DariusClover/INTELIGENCIA-ARTIFICIAL/blob/main/Taller_An%C3%A1lisis_de_Datos_con_Pandas%2C_NumPy_y_Matplotlib.ipynb\" target=\"_parent\"><img src=\"https://colab.research.google.com/assets/colab-badge.svg\" alt=\"Open In Colab\"/></a>"
      ]
    },
    {
      "cell_type": "code",
      "execution_count": 4,
      "metadata": {
        "colab": {
          "base_uri": "https://localhost:8080/"
        },
        "id": "6wL8trSUTo96",
        "outputId": "1d4cb541-e583-4c75-bb8f-26c813bfc7de"
      },
      "outputs": [
        {
          "output_type": "stream",
          "name": "stdout",
          "text": [
            "Punto 1: \n",
            "Suma total de los números del 1 al 1000: 500500\n"
          ]
        }
      ],
      "source": [
        "#************************************************************\n",
        "#Taller: Análisis de Datos con Pandas, NumPy y Matplotlib\n",
        "#-------------------------------------------------------------\n",
        "#Se resolveran los 10 puntos del taller en este colab\n",
        "#****************************************************************\n",
        "\n",
        "#Primero se importaran las librerias necesarias\n",
        "import numpy as np\n",
        "import pandas as pd\n",
        "import matplotlib.pyplot as plt\n",
        "from scipy import stats\n",
        "\n",
        "#1.Crear un arreglo con los números\n",
        "#del 1 al 1000 y calcular su suma total\n",
        "\n",
        "# np.arange(1,1001) genera una secuencia desde 1 hasta 1000\n",
        "arreglo = np.arange(1,1001)\n",
        "suma_total = arreglo.sum()\n",
        "\n",
        "print(\"Punto 1: \")\n",
        "print(\"Suma total de los números del 1 al 1000:\", suma_total)"
      ]
    },
    {
      "cell_type": "code",
      "source": [
        "#2. Dado el arreglo [2, 4, 4, 6, 8, 8, 8, 10], calcula la media, mediana y moda.\n",
        "\n",
        "arreglo = np.array([2, 4, 4, 6, 8, 8, 8, 10])\n",
        "\n",
        "#media: es el promedide los valores\n",
        "media =np.mean(arreglo)\n",
        "\n",
        "#mediana: es el valo a la mitad del arreglo\n",
        "mediana =np.median(arreglo)\n",
        "\n",
        "#moda: es el valor que mas se repite\n",
        "moda = np.argmax(np.bincount(arreglo))\n",
        "\n",
        "print(\"\\nPunto 2: \")\n",
        "print(\"Media:\", media)\n",
        "print(\"Mediana:\", mediana)\n",
        "print(\"Moda:\", moda)\n",
        "\n"
      ],
      "metadata": {
        "colab": {
          "base_uri": "https://localhost:8080/"
        },
        "id": "AQaYWV2lZvZC",
        "outputId": "c63689ff-4b1b-4bc6-c550-3028d4bc804e"
      },
      "execution_count": 8,
      "outputs": [
        {
          "output_type": "stream",
          "name": "stdout",
          "text": [
            "\n",
            "Punto 2: \n",
            "Media: 6.25\n",
            "Mediana: 7.0\n",
            "Moda: 8\n"
          ]
        }
      ]
    },
    {
      "cell_type": "code",
      "source": [
        "#3. Calcula la varianza y la desviación estándar del conjunto de datos anterior.\n",
        "\n",
        "#varianza: es la dispersion delos datos respecto a la media\n",
        "\n",
        "varianza = np.var(arreglo)\n",
        "\n",
        "#desviacion estandar: es la raiz cuadrada de la varianza\n",
        "desviacion_estandar = np.std(arreglo)\n",
        "\n",
        "print(\"\\nPunto 3: \")\n",
        "print(\"Varianza:\", varianza)\n",
        "print(\"Desviación estándar:\", desviacion_estandar)"
      ],
      "metadata": {
        "colab": {
          "base_uri": "https://localhost:8080/"
        },
        "id": "1Vh0qk81eKqw",
        "outputId": "f593e3f5-6f4c-4d25-a363-1bdd0d6b3c58"
      },
      "execution_count": 9,
      "outputs": [
        {
          "output_type": "stream",
          "name": "stdout",
          "text": [
            "\n",
            "Punto 3: \n",
            "Varianza: 6.4375\n",
            "Desviación estándar: 2.537222891273055\n"
          ]
        }
      ]
    }
  ]
}